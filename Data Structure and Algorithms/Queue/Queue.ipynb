{
 "cells": [
  {
   "cell_type": "markdown",
   "metadata": {},
   "source": [
    "## Implementatin of Queue"
   ]
  },
  {
   "cell_type": "code",
   "execution_count": 3,
   "metadata": {},
   "outputs": [],
   "source": [
    "# In this Repository we will Learn about the Queue, Operations of Queue, Working principal of Queue and \n",
    "# Implementation of Queue using Python."
   ]
  },
  {
   "cell_type": "markdown",
   "metadata": {},
   "source": [
    "## What is Queue??"
   ]
  },
  {
   "cell_type": "code",
   "execution_count": 4,
   "metadata": {},
   "outputs": [],
   "source": [
    "# A queue is a useful data structure in programming. It is similar to the ticket queue outside a cinema hall, \n",
    "# where the first person entering the queue is the first person who gets the ticket."
   ]
  },
  {
   "cell_type": "markdown",
   "metadata": {},
   "source": [
    "## Working Principal of Queue"
   ]
  },
  {
   "cell_type": "code",
   "execution_count": 5,
   "metadata": {},
   "outputs": [],
   "source": [
    "# Queue follows the First In First Out (FIFO) rule - the item that goes in first is the item that comes out first.\n",
    "\n",
    "# In programming terms, putting items in the queue is called enqueue, and removing items from the queue is called dequeue.\n",
    "\n",
    "# We can implement the queue in any programming language like C, C++, Java, Python or C#, \n",
    "# but the specification is pretty much the same and we will implement it using Python.\n",
    "\n"
   ]
  },
  {
   "cell_type": "markdown",
   "metadata": {},
   "source": [
    "## Basic Operations of Queue."
   ]
  },
  {
   "cell_type": "code",
   "execution_count": 7,
   "metadata": {},
   "outputs": [],
   "source": [
    "# A queue is an object (an abstract data structure - ADT) that allows the following operations:\n",
    "\n",
    "# Enqueue: Add an element to the end of the queue\n",
    "# Dequeue: Remove an element from the front of the queue\n",
    "# IsEmpty: Check if the queue is empty\n",
    "# IsFull: Check if the queue is full\n",
    "# Peek: Get the value of the front of the queue without removing it"
   ]
  },
  {
   "cell_type": "markdown",
   "metadata": {},
   "source": [
    "## Implementation of Queue."
   ]
  },
  {
   "cell_type": "code",
   "execution_count": 22,
   "metadata": {},
   "outputs": [],
   "source": [
    "def createQueue(): # This function used to create queue.\n",
    "    queue = []\n",
    "    return queue\n",
    "\n",
    "def enqueue(queue, item): # This function append the element on the queue which we created above. \n",
    "    queue.append(item)\n",
    "\n",
    "def dequeue(queue): # This function return false is queue is empty otherwise remove first element of queue.\n",
    "    if len(queue) < 1:\n",
    "        return 0\n",
    "    return queue.pop(0)\n",
    "\n",
    "def isEmpty(queue): # This function return True if Queue is empty otherwise return False.\n",
    "    if len(queue) == 0:\n",
    "        return True\n",
    "    else:\n",
    "        return False\n",
    "\n",
    "def isFull(queue, n): # This function return True if Queue is Full.\n",
    "    if len(queue) == n:\n",
    "        return True\n",
    "    else: \n",
    "        return False\n",
    "\n",
    "def peek(queue):  # This function return the first element of queue.\n",
    "    return queue[0]\n",
    "\n",
    "# I hope u are understand these function there is no rocket science behind these function because these are so\n",
    "# simple functions and now you are understood the implementation of Queue in a easy way. Let's create queue \n",
    "# using above code.\n",
    "    \n",
    "    "
   ]
  },
  {
   "cell_type": "code",
   "execution_count": 24,
   "metadata": {},
   "outputs": [
    {
     "name": "stdout",
     "output_type": "stream",
     "text": [
      "True\n",
      "b\n",
      "['b', 'c']\n"
     ]
    }
   ],
   "source": [
    "x = createQueue()  #create Queue.\n",
    "print(isEmpty(x))  #check Queue is Empty or not.\n",
    "enqueue(x, 'a')    #enqueue element a on queue.\n",
    "enqueue(x, 'b')    #enqueue element b on queue.\n",
    "enqueue(x, 'c')    #enqueue element c on queue.\n",
    "dequeue(x)         #dequeue last element \n",
    "print(peek(x))     #get and print first value of queue.\n",
    "print(x)           #print queue.\n"
   ]
  },
  {
   "cell_type": "code",
   "execution_count": null,
   "metadata": {},
   "outputs": [],
   "source": []
  }
 ],
 "metadata": {
  "kernelspec": {
   "display_name": "Python 3",
   "language": "python",
   "name": "python3"
  },
  "language_info": {
   "codemirror_mode": {
    "name": "ipython",
    "version": 3
   },
   "file_extension": ".py",
   "mimetype": "text/x-python",
   "name": "python",
   "nbconvert_exporter": "python",
   "pygments_lexer": "ipython3",
   "version": "3.8.5"
  }
 },
 "nbformat": 4,
 "nbformat_minor": 4
}
