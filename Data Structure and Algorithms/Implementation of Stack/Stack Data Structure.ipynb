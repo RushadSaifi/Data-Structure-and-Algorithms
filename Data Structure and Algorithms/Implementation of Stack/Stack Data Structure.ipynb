{
 "cells": [
  {
   "cell_type": "markdown",
   "metadata": {},
   "source": [
    "# Stack Data Structure"
   ]
  },
  {
   "cell_type": "code",
   "execution_count": null,
   "metadata": {},
   "outputs": [],
   "source": [
    "# A stack is a linear data structure that follows the principle of Last In First Out (LIFO). \n",
    "# This means the last element inserted inside the stack is removed first."
   ]
  },
  {
   "cell_type": "markdown",
   "metadata": {},
   "source": [
    "# Basic Operations of Stack"
   ]
  },
  {
   "cell_type": "code",
   "execution_count": 18,
   "metadata": {},
   "outputs": [],
   "source": [
    "# There are some basic operations that allow us to perform different actions on a stack.\n",
    "\n",
    "# 1. Push: Add an element to the top of a stack\n",
    "# 2. Pop: Remove an element from the top of a stack\n",
    "# 3. IsEmpty: Check if the stack is empty\n",
    "# 4. IsFull: Check if the stack is full\n",
    "# 5. Peek: Get the value of the top element without removing it"
   ]
  },
  {
   "cell_type": "markdown",
   "metadata": {},
   "source": [
    "# Working of Stack Data Structure"
   ]
  },
  {
   "cell_type": "code",
   "execution_count": 19,
   "metadata": {},
   "outputs": [],
   "source": [
    "# The operations work as follows:\n",
    "\n",
    "# 1. A pointer called TOP is used to keep track of the top element in the stack.\n",
    "# 2. When initializing the stack, we set its value to -1 so that we can check if the stack is empty by comparing TOP == -1.\n",
    "# 3. On pushing an element, we increase the value of TOP and place the new element in the position pointed to by TOP.\n",
    "# 4. On popping an element, we return the element pointed to by TOP and reduce its value.\n",
    "# 5. Before pushing, we check if the stack is already full\n",
    "# 6. Before popping, we check if the stack is already empty"
   ]
  },
  {
   "cell_type": "markdown",
   "metadata": {},
   "source": [
    "# Implementation of stack"
   ]
  },
  {
   "cell_type": "markdown",
   "metadata": {},
   "source": [
    "# Creating Stack"
   ]
  },
  {
   "cell_type": "code",
   "execution_count": 20,
   "metadata": {},
   "outputs": [],
   "source": [
    "def create_Stack():\n",
    "    stack = [ ]\n",
    "    return stack"
   ]
  },
  {
   "cell_type": "markdown",
   "metadata": {},
   "source": [
    "<!-- Check stack is empty -->"
   ]
  },
  {
   "cell_type": "markdown",
   "metadata": {},
   "source": [
    "# Check is stack empty or not."
   ]
  },
  {
   "cell_type": "code",
   "execution_count": 21,
   "metadata": {},
   "outputs": [],
   "source": [
    "def check_Empty(stack):\n",
    "    return len(stack) == 0"
   ]
  },
  {
   "cell_type": "markdown",
   "metadata": {},
   "source": [
    "# Adding Items into the Stack"
   ]
  },
  {
   "cell_type": "code",
   "execution_count": 22,
   "metadata": {},
   "outputs": [],
   "source": [
    "def push(stack, item):\n",
    "    stack.append(item)"
   ]
  },
  {
   "cell_type": "markdown",
   "metadata": {},
   "source": [
    "# Removing an element from the statck"
   ]
  },
  {
   "cell_type": "code",
   "execution_count": 30,
   "metadata": {},
   "outputs": [],
   "source": [
    "def pop(stack):\n",
    "    stack.pop()"
   ]
  },
  {
   "cell_type": "markdown",
   "metadata": {},
   "source": [
    "# Working of Stack"
   ]
  },
  {
   "cell_type": "code",
   "execution_count": 31,
   "metadata": {},
   "outputs": [
    {
     "name": "stdout",
     "output_type": "stream",
     "text": [
      "Value of stack is : ['1', '2', '3']\n"
     ]
    }
   ],
   "source": [
    "stack = create_Stack()\n",
    "push(stack, \"1\")\n",
    "push(stack, \"2\")\n",
    "push(stack, \"3\")\n",
    "push(stack, \"4\")\n",
    "pop(stack)\n",
    "print(\"Value of stack is : \" + str(stack))"
   ]
  },
  {
   "cell_type": "code",
   "execution_count": null,
   "metadata": {},
   "outputs": [],
   "source": []
  }
 ],
 "metadata": {
  "kernelspec": {
   "display_name": "Python 3",
   "language": "python",
   "name": "python3"
  },
  "language_info": {
   "codemirror_mode": {
    "name": "ipython",
    "version": 3
   },
   "file_extension": ".py",
   "mimetype": "text/x-python",
   "name": "python",
   "nbconvert_exporter": "python",
   "pygments_lexer": "ipython3",
   "version": "3.8.5"
  }
 },
 "nbformat": 4,
 "nbformat_minor": 4
}
